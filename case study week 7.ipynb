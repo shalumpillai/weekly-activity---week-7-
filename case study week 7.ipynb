{
 "cells": [
  {
   "cell_type": "code",
   "execution_count": 1,
   "id": "2acfd145",
   "metadata": {},
   "outputs": [],
   "source": [
    "# Import the libraries"
   ]
  },
  {
   "cell_type": "code",
   "execution_count": 2,
   "id": "8d478a49",
   "metadata": {},
   "outputs": [],
   "source": [
    "import numpy as np\n",
    "import pandas as pd\n",
    "import matplotlib.pyplot as plt\n",
    "import seaborn as sns"
   ]
  },
  {
   "cell_type": "code",
   "execution_count": 3,
   "id": "c9452b09",
   "metadata": {},
   "outputs": [
    {
     "data": {
      "text/html": [
       "<div>\n",
       "<style scoped>\n",
       "    .dataframe tbody tr th:only-of-type {\n",
       "        vertical-align: middle;\n",
       "    }\n",
       "\n",
       "    .dataframe tbody tr th {\n",
       "        vertical-align: top;\n",
       "    }\n",
       "\n",
       "    .dataframe thead th {\n",
       "        text-align: right;\n",
       "    }\n",
       "</style>\n",
       "<table border=\"1\" class=\"dataframe\">\n",
       "  <thead>\n",
       "    <tr style=\"text-align: right;\">\n",
       "      <th></th>\n",
       "      <th>Date</th>\n",
       "      <th>Add1(in Thousands)</th>\n",
       "      <th>Add2(in Thousands)</th>\n",
       "      <th>Add3(in Thousands)</th>\n",
       "      <th>Add4(in Thousands)</th>\n",
       "      <th>Add5(in Thousands)</th>\n",
       "      <th>Profit(in Thousands)</th>\n",
       "    </tr>\n",
       "  </thead>\n",
       "  <tbody>\n",
       "    <tr>\n",
       "      <th>0</th>\n",
       "      <td>2018-10-08</td>\n",
       "      <td>208.00</td>\n",
       "      <td>222.25</td>\n",
       "      <td>206.85</td>\n",
       "      <td>216.00</td>\n",
       "      <td>215.15</td>\n",
       "      <td>4093.065</td>\n",
       "    </tr>\n",
       "    <tr>\n",
       "      <th>1</th>\n",
       "      <td>2018-10-05</td>\n",
       "      <td>217.00</td>\n",
       "      <td>218.60</td>\n",
       "      <td>205.90</td>\n",
       "      <td>210.25</td>\n",
       "      <td>209.20</td>\n",
       "      <td>4042.448</td>\n",
       "    </tr>\n",
       "    <tr>\n",
       "      <th>2</th>\n",
       "      <td>2018-10-04</td>\n",
       "      <td>223.50</td>\n",
       "      <td>227.80</td>\n",
       "      <td>216.15</td>\n",
       "      <td>217.25</td>\n",
       "      <td>218.20</td>\n",
       "      <td>4213.819</td>\n",
       "    </tr>\n",
       "    <tr>\n",
       "      <th>3</th>\n",
       "      <td>2018-10-03</td>\n",
       "      <td>230.00</td>\n",
       "      <td>237.50</td>\n",
       "      <td>225.75</td>\n",
       "      <td>226.45</td>\n",
       "      <td>227.60</td>\n",
       "      <td>4391.665</td>\n",
       "    </tr>\n",
       "    <tr>\n",
       "      <th>4</th>\n",
       "      <td>2018-10-01</td>\n",
       "      <td>234.55</td>\n",
       "      <td>234.60</td>\n",
       "      <td>221.05</td>\n",
       "      <td>230.30</td>\n",
       "      <td>230.90</td>\n",
       "      <td>4350.683</td>\n",
       "    </tr>\n",
       "  </tbody>\n",
       "</table>\n",
       "</div>"
      ],
      "text/plain": [
       "         Date  Add1(in Thousands)  Add2(in Thousands)  Add3(in Thousands)  \\\n",
       "0  2018-10-08              208.00              222.25              206.85   \n",
       "1  2018-10-05              217.00              218.60              205.90   \n",
       "2  2018-10-04              223.50              227.80              216.15   \n",
       "3  2018-10-03              230.00              237.50              225.75   \n",
       "4  2018-10-01              234.55              234.60              221.05   \n",
       "\n",
       "   Add4(in Thousands)  Add5(in Thousands)  Profit(in Thousands)  \n",
       "0              216.00              215.15              4093.065  \n",
       "1              210.25              209.20              4042.448  \n",
       "2              217.25              218.20              4213.819  \n",
       "3              226.45              227.60              4391.665  \n",
       "4              230.30              230.90              4350.683  "
      ]
     },
     "execution_count": 3,
     "metadata": {},
     "output_type": "execute_result"
    }
   ],
   "source": [
    "data = pd.read_csv(\"Add_sales_data_2018.csv\")\n",
    "data.head(5)"
   ]
  },
  {
   "cell_type": "code",
   "execution_count": 4,
   "id": "179c86f7",
   "metadata": {},
   "outputs": [
    {
     "data": {
      "text/plain": [
       "(205, 7)"
      ]
     },
     "execution_count": 4,
     "metadata": {},
     "output_type": "execute_result"
    }
   ],
   "source": [
    "data.shape"
   ]
  },
  {
   "cell_type": "code",
   "execution_count": 5,
   "id": "e678f3d1",
   "metadata": {},
   "outputs": [
    {
     "name": "stdout",
     "output_type": "stream",
     "text": [
      "<class 'pandas.core.frame.DataFrame'>\n",
      "RangeIndex: 205 entries, 0 to 204\n",
      "Data columns (total 7 columns):\n",
      " #   Column                Non-Null Count  Dtype  \n",
      "---  ------                --------------  -----  \n",
      " 0   Date                  205 non-null    object \n",
      " 1   Add1(in Thousands)    205 non-null    float64\n",
      " 2   Add2(in Thousands)    205 non-null    float64\n",
      " 3   Add3(in Thousands)    205 non-null    float64\n",
      " 4   Add4(in Thousands)    205 non-null    float64\n",
      " 5   Add5(in Thousands)    205 non-null    float64\n",
      " 6   Profit(in Thousands)  205 non-null    float64\n",
      "dtypes: float64(6), object(1)\n",
      "memory usage: 11.3+ KB\n"
     ]
    }
   ],
   "source": [
    "data.info()"
   ]
  },
  {
   "cell_type": "markdown",
   "id": "6f1ee975",
   "metadata": {},
   "source": [
    "There are 5 features in dataset with data-type float and column Date as object."
   ]
  },
  {
   "cell_type": "code",
   "execution_count": 6,
   "id": "3c6f9c8c",
   "metadata": {},
   "outputs": [],
   "source": [
    "# To check the null values"
   ]
  },
  {
   "cell_type": "code",
   "execution_count": 7,
   "id": "0a05c70d",
   "metadata": {},
   "outputs": [
    {
     "data": {
      "text/plain": [
       "Date                    0\n",
       "Add1(in Thousands)      0\n",
       "Add2(in Thousands)      0\n",
       "Add3(in Thousands)      0\n",
       "Add4(in Thousands)      0\n",
       "Add5(in Thousands)      0\n",
       "Profit(in Thousands)    0\n",
       "dtype: int64"
      ]
     },
     "execution_count": 7,
     "metadata": {},
     "output_type": "execute_result"
    }
   ],
   "source": [
    "data.isna().sum()"
   ]
  },
  {
   "cell_type": "markdown",
   "id": "0761b4e6",
   "metadata": {},
   "source": [
    "There is no missing values present in the data."
   ]
  },
  {
   "cell_type": "code",
   "execution_count": 31,
   "id": "055ccd8c",
   "metadata": {},
   "outputs": [
    {
     "data": {
      "text/html": [
       "<div>\n",
       "<style scoped>\n",
       "    .dataframe tbody tr th:only-of-type {\n",
       "        vertical-align: middle;\n",
       "    }\n",
       "\n",
       "    .dataframe tbody tr th {\n",
       "        vertical-align: top;\n",
       "    }\n",
       "\n",
       "    .dataframe thead th {\n",
       "        text-align: right;\n",
       "    }\n",
       "</style>\n",
       "<table border=\"1\" class=\"dataframe\">\n",
       "  <thead>\n",
       "    <tr style=\"text-align: right;\">\n",
       "      <th></th>\n",
       "      <th>Add1(in Thousands)</th>\n",
       "      <th>Add2(in Thousands)</th>\n",
       "      <th>Add3(in Thousands)</th>\n",
       "      <th>Add4(in Thousands)</th>\n",
       "      <th>Add5(in Thousands)</th>\n",
       "      <th>Profit(in Thousands)</th>\n",
       "    </tr>\n",
       "  </thead>\n",
       "  <tbody>\n",
       "    <tr>\n",
       "      <th>count</th>\n",
       "      <td>205.000000</td>\n",
       "      <td>205.000000</td>\n",
       "      <td>205.000000</td>\n",
       "      <td>205.000000</td>\n",
       "      <td>205.000000</td>\n",
       "      <td>205.000000</td>\n",
       "    </tr>\n",
       "    <tr>\n",
       "      <th>mean</th>\n",
       "      <td>267.577561</td>\n",
       "      <td>271.722439</td>\n",
       "      <td>262.990732</td>\n",
       "      <td>267.223902</td>\n",
       "      <td>267.152683</td>\n",
       "      <td>5059.630234</td>\n",
       "    </tr>\n",
       "    <tr>\n",
       "      <th>std</th>\n",
       "      <td>26.219588</td>\n",
       "      <td>25.914939</td>\n",
       "      <td>26.126704</td>\n",
       "      <td>26.238832</td>\n",
       "      <td>26.215360</td>\n",
       "      <td>486.910414</td>\n",
       "    </tr>\n",
       "    <tr>\n",
       "      <th>min</th>\n",
       "      <td>208.000000</td>\n",
       "      <td>218.600000</td>\n",
       "      <td>205.900000</td>\n",
       "      <td>210.250000</td>\n",
       "      <td>209.200000</td>\n",
       "      <td>4042.448000</td>\n",
       "    </tr>\n",
       "    <tr>\n",
       "      <th>25%</th>\n",
       "      <td>244.000000</td>\n",
       "      <td>248.500000</td>\n",
       "      <td>240.300000</td>\n",
       "      <td>243.050000</td>\n",
       "      <td>243.000000</td>\n",
       "      <td>4617.695000</td>\n",
       "    </tr>\n",
       "    <tr>\n",
       "      <th>50%</th>\n",
       "      <td>269.700000</td>\n",
       "      <td>274.200000</td>\n",
       "      <td>263.250000</td>\n",
       "      <td>268.900000</td>\n",
       "      <td>268.350000</td>\n",
       "      <td>5088.455000</td>\n",
       "    </tr>\n",
       "    <tr>\n",
       "      <th>75%</th>\n",
       "      <td>284.400000</td>\n",
       "      <td>288.800000</td>\n",
       "      <td>280.900000</td>\n",
       "      <td>284.500000</td>\n",
       "      <td>284.450000</td>\n",
       "      <td>5387.438000</td>\n",
       "    </tr>\n",
       "    <tr>\n",
       "      <th>max</th>\n",
       "      <td>327.700000</td>\n",
       "      <td>328.750000</td>\n",
       "      <td>321.650000</td>\n",
       "      <td>325.950000</td>\n",
       "      <td>325.750000</td>\n",
       "      <td>6137.800000</td>\n",
       "    </tr>\n",
       "  </tbody>\n",
       "</table>\n",
       "</div>"
      ],
      "text/plain": [
       "       Add1(in Thousands)  Add2(in Thousands)  Add3(in Thousands)  \\\n",
       "count          205.000000          205.000000          205.000000   \n",
       "mean           267.577561          271.722439          262.990732   \n",
       "std             26.219588           25.914939           26.126704   \n",
       "min            208.000000          218.600000          205.900000   \n",
       "25%            244.000000          248.500000          240.300000   \n",
       "50%            269.700000          274.200000          263.250000   \n",
       "75%            284.400000          288.800000          280.900000   \n",
       "max            327.700000          328.750000          321.650000   \n",
       "\n",
       "       Add4(in Thousands)  Add5(in Thousands)  Profit(in Thousands)  \n",
       "count          205.000000          205.000000            205.000000  \n",
       "mean           267.223902          267.152683           5059.630234  \n",
       "std             26.238832           26.215360            486.910414  \n",
       "min            210.250000          209.200000           4042.448000  \n",
       "25%            243.050000          243.000000           4617.695000  \n",
       "50%            268.900000          268.350000           5088.455000  \n",
       "75%            284.500000          284.450000           5387.438000  \n",
       "max            325.950000          325.750000           6137.800000  "
      ]
     },
     "execution_count": 31,
     "metadata": {},
     "output_type": "execute_result"
    }
   ],
   "source": [
    "data.describe()"
   ]
  },
  {
   "cell_type": "code",
   "execution_count": 8,
   "id": "1c5b2fc2",
   "metadata": {},
   "outputs": [
    {
     "data": {
      "image/png": "[encoded data removed]",
      "text/plain": [
       "<Figure size 720x576 with 6 Axes>"
      ]
     },
     "metadata": {
      "needs_background": "light"
     },
     "output_type": "display_data"
    }
   ],
   "source": [
    "freqgraph = data.select_dtypes(include=['int64','float'])   #selecting var to plot\n",
    "freqgraph.hist(figsize=(10,8)) #plotting the histogram\n",
    "plt.show()"
   ]
  },
  {
   "cell_type": "markdown",
   "id": "dd86a4e7",
   "metadata": {},
   "source": [
    "# 1. First of all, check whether there is any relationship between the amount spent for advertising through five different companies and profit  generated "
   ]
  },
  {
   "cell_type": "code",
   "execution_count": 9,
   "id": "0b6ba34c",
   "metadata": {},
   "outputs": [],
   "source": [
    "# To check the relationship,find correlation matrix"
   ]
  },
  {
   "cell_type": "code",
   "execution_count": 10,
   "id": "43388095",
   "metadata": {},
   "outputs": [
    {
     "data": {
      "text/plain": [
       "<AxesSubplot:>"
      ]
     },
     "execution_count": 10,
     "metadata": {},
     "output_type": "execute_result"
    },
    {
     "data": {
      "image/png": "[encoded data removed]",
      "text/plain": [
       "<Figure size 1440x576 with 2 Axes>"
      ]
     },
     "metadata": {
      "needs_background": "light"
     },
     "output_type": "display_data"
    }
   ],
   "source": [
    "corrmatrix = data.corr()\n",
    "plt.subplots(figsize =(20,8))\n",
    "sns.heatmap(corrmatrix,vmin = -0.2,vmax = 1,annot = True,linewidth =0.2,cmap='YlGnBu')"
   ]
  },
  {
   "cell_type": "markdown",
   "id": "27472198",
   "metadata": {},
   "source": [
    "Here we can see that the variables are highly correlated.There is a perfect positive relationship between the variables.Also, these 5 features are highly related with our target(profit).so we need the amount spent for advertising through 5 different companies to predict the profit amount."
   ]
  },
  {
   "cell_type": "markdown",
   "id": "a4148e8c",
   "metadata": {},
   "source": [
    "# 2. Build a regression model to predict the profit from the given data and comment your findings on it.\n"
   ]
  },
  {
   "cell_type": "markdown",
   "id": "4d598d91",
   "metadata": {},
   "source": [
    "#### There are total 6 columns in the data set,in which basically profit is our dependent variable or (target)\n",
    "#### Other five are inpendent variable(predictors)"
   ]
  },
  {
   "cell_type": "code",
   "execution_count": 12,
   "id": "2b5271aa",
   "metadata": {},
   "outputs": [],
   "source": [
    "# Separate the other variables from predicting var(independent var)\n",
    "x = data.drop(['Date','Profit(in Thousands)'],axis = 1)\n",
    "# Separate the predicting variable(dependent var)\n",
    "y = data['Profit(in Thousands)']\n"
   ]
  },
  {
   "cell_type": "code",
   "execution_count": 13,
   "id": "002454eb",
   "metadata": {},
   "outputs": [],
   "source": [
    "# Next is split the dataset into test and train set.This is avalible in Sklearn library."
   ]
  },
  {
   "cell_type": "code",
   "execution_count": 14,
   "id": "52e3edf4",
   "metadata": {},
   "outputs": [],
   "source": [
    "from sklearn.model_selection import train_test_split\n",
    "x_train,x_test,y_train,y_test = train_test_split(x,y,random_state = 42,test_size=0.25)"
   ]
  },
  {
   "cell_type": "code",
   "execution_count": 15,
   "id": "0603aac6",
   "metadata": {},
   "outputs": [],
   "source": [
    "from sklearn import linear_model"
   ]
  },
  {
   "cell_type": "code",
   "execution_count": 16,
   "id": "8332342e",
   "metadata": {},
   "outputs": [],
   "source": [
    "lr = linear_model.LinearRegression()"
   ]
  },
  {
   "cell_type": "code",
   "execution_count": 17,
   "id": "e01ed57b",
   "metadata": {},
   "outputs": [],
   "source": [
    "# fitting the above instance(lr) created to our training data and creating linear regression model also store it into model "
   ]
  },
  {
   "cell_type": "code",
   "execution_count": 18,
   "id": "1b9f0389",
   "metadata": {},
   "outputs": [],
   "source": [
    "model = lr.fit(x_train,y_train)"
   ]
  },
  {
   "cell_type": "code",
   "execution_count": 19,
   "id": "64366a92",
   "metadata": {},
   "outputs": [],
   "source": [
    "#now model ready to predict the output"
   ]
  },
  {
   "cell_type": "code",
   "execution_count": 20,
   "id": "c848645c",
   "metadata": {},
   "outputs": [],
   "source": [
    "predictions = model.predict(x_test)"
   ]
  },
  {
   "cell_type": "code",
   "execution_count": 21,
   "id": "48bb8394",
   "metadata": {},
   "outputs": [
    {
     "name": "stdout",
     "output_type": "stream",
     "text": [
      "15     4152.066\n",
      "9      4446.441\n",
      "100    5131.898\n",
      "132    4907.560\n",
      "68     5004.282\n",
      "95     4623.793\n",
      "159    5384.175\n",
      "162    5328.025\n",
      "147    5175.051\n",
      "182    5956.323\n",
      "191    5780.799\n",
      "164    4997.719\n",
      "65     5075.858\n",
      "175    5784.540\n",
      "73     4936.120\n",
      "152    5065.652\n",
      "18     4190.965\n",
      "82     5034.726\n",
      "86     5015.536\n",
      "143    5134.657\n",
      "60     5145.131\n",
      "101    5421.940\n",
      "98     4569.293\n",
      "30     4598.292\n",
      "25     4436.321\n",
      "16     4175.677\n",
      "168    5616.791\n",
      "195    5667.250\n",
      "97     4648.834\n",
      "194    5717.838\n",
      "67     5001.615\n",
      "120    5182.368\n",
      "154    5017.503\n",
      "202    5545.013\n",
      "79     5013.207\n",
      "69     5030.451\n",
      "145    5108.626\n",
      "55     4760.877\n",
      "45     4606.340\n",
      "84     4925.861\n",
      "146    5250.788\n",
      "66     5038.222\n",
      "111    5491.792\n",
      "153    5019.997\n",
      "96     4647.356\n",
      "38     4486.380\n",
      "24     4435.174\n",
      "139    5300.437\n",
      "112    5425.190\n",
      "29     4482.183\n",
      "19     4193.095\n",
      "178    6062.457\n",
      "Name: Profit(in Thousands), dtype: float64\n"
     ]
    }
   ],
   "source": [
    "print(y_test)"
   ]
  },
  {
   "cell_type": "code",
   "execution_count": 22,
   "id": "1107c74b",
   "metadata": {},
   "outputs": [],
   "source": [
    "# y_test contain orginal value and predictions contain predicted values"
   ]
  },
  {
   "cell_type": "code",
   "execution_count": 23,
   "id": "c6fb301b",
   "metadata": {},
   "outputs": [
    {
     "name": "stdout",
     "output_type": "stream",
     "text": [
      "[4152.066 4446.441 5131.898 4907.56  5004.282 4623.793 5384.175 5328.025\n",
      " 5175.051 5956.323 5780.799 4997.719 5075.858 5784.54  4936.12  5065.652\n",
      " 4190.965 5034.726 5015.536 5134.657 5145.131 5421.94  4569.293 4598.292\n",
      " 4436.321 4175.677 5616.791 5667.25  4648.834 5717.838 5001.615 5182.368\n",
      " 5017.503 5545.013 5013.207 5030.451 5108.626 4760.877 4606.34  4925.861\n",
      " 5250.788 5038.222 5491.792 5019.997 4647.356 4486.38  4435.174 5300.437\n",
      " 5425.19  4482.183 4193.095 6062.457]\n"
     ]
    }
   ],
   "source": [
    "print(predictions)"
   ]
  },
  {
   "cell_type": "code",
   "execution_count": 24,
   "id": "a5fd3990",
   "metadata": {},
   "outputs": [],
   "source": [
    "# to find mean squared error by comparing y_test and predictions\n",
    "from sklearn.metrics import mean_squared_error"
   ]
  },
  {
   "cell_type": "code",
   "execution_count": 25,
   "id": "63bfc4b3",
   "metadata": {},
   "outputs": [
    {
     "name": "stdout",
     "output_type": "stream",
     "text": [
      "MSE is : 8.11273293080854e-25\n"
     ]
    }
   ],
   "source": [
    "print('MSE is :',mean_squared_error(y_test,predictions))"
   ]
  },
  {
   "cell_type": "markdown",
   "id": "2261b441",
   "metadata": {},
   "source": [
    "Here, mean squared error is low.so this a good model to fit."
   ]
  },
  {
   "cell_type": "code",
   "execution_count": 26,
   "id": "0f6a1487",
   "metadata": {},
   "outputs": [
    {
     "data": {
      "text/plain": [
       "1.0"
      ]
     },
     "execution_count": 26,
     "metadata": {},
     "output_type": "execute_result"
    }
   ],
   "source": [
    "# Calculating the R squared value\n",
    "from sklearn.metrics import r2_score\n",
    "r2_score(y_test,predictions)\n"
   ]
  },
  {
   "cell_type": "markdown",
   "id": "6324e308",
   "metadata": {},
   "source": [
    "The R^2 cofficient of determination is a statiatical measure of how well the regression predictions appropriate the real datapoints.An R^2 of 1 indicates that the regression predictions perfectly fit the data."
   ]
  },
  {
   "cell_type": "code",
   "execution_count": 27,
   "id": "3eaae2be",
   "metadata": {},
   "outputs": [
    {
     "data": {
      "text/plain": [
       "0.0"
      ]
     },
     "execution_count": 27,
     "metadata": {},
     "output_type": "execute_result"
    }
   ],
   "source": [
    "# To find the intercept\n",
    "model.intercept_"
   ]
  },
  {
   "cell_type": "code",
   "execution_count": 28,
   "id": "51781302",
   "metadata": {},
   "outputs": [
    {
     "data": {
      "text/plain": [
       "array([ 1.  , 12.38,  3.5 ,  1.  ,  0.9 ])"
      ]
     },
     "execution_count": 28,
     "metadata": {},
     "output_type": "execute_result"
    }
   ],
   "source": [
    "# To find coeff\n",
    "model.coef_"
   ]
  },
  {
   "cell_type": "code",
   "execution_count": 29,
   "id": "c231e4f5",
   "metadata": {},
   "outputs": [
    {
     "data": {
      "text/html": [
       "<div>\n",
       "<style scoped>\n",
       "    .dataframe tbody tr th:only-of-type {\n",
       "        vertical-align: middle;\n",
       "    }\n",
       "\n",
       "    .dataframe tbody tr th {\n",
       "        vertical-align: top;\n",
       "    }\n",
       "\n",
       "    .dataframe thead th {\n",
       "        text-align: right;\n",
       "    }\n",
       "</style>\n",
       "<table border=\"1\" class=\"dataframe\">\n",
       "  <thead>\n",
       "    <tr style=\"text-align: right;\">\n",
       "      <th></th>\n",
       "      <th>Add1(in Thousands)</th>\n",
       "      <th>Add2(in Thousands)</th>\n",
       "      <th>Add3(in Thousands)</th>\n",
       "      <th>Add4(in Thousands)</th>\n",
       "      <th>Add5(in Thousands)</th>\n",
       "    </tr>\n",
       "  </thead>\n",
       "  <tbody>\n",
       "    <tr>\n",
       "      <th>0</th>\n",
       "      <td>208.00</td>\n",
       "      <td>222.25</td>\n",
       "      <td>206.85</td>\n",
       "      <td>216.00</td>\n",
       "      <td>215.15</td>\n",
       "    </tr>\n",
       "    <tr>\n",
       "      <th>1</th>\n",
       "      <td>217.00</td>\n",
       "      <td>218.60</td>\n",
       "      <td>205.90</td>\n",
       "      <td>210.25</td>\n",
       "      <td>209.20</td>\n",
       "    </tr>\n",
       "    <tr>\n",
       "      <th>2</th>\n",
       "      <td>223.50</td>\n",
       "      <td>227.80</td>\n",
       "      <td>216.15</td>\n",
       "      <td>217.25</td>\n",
       "      <td>218.20</td>\n",
       "    </tr>\n",
       "    <tr>\n",
       "      <th>3</th>\n",
       "      <td>230.00</td>\n",
       "      <td>237.50</td>\n",
       "      <td>225.75</td>\n",
       "      <td>226.45</td>\n",
       "      <td>227.60</td>\n",
       "    </tr>\n",
       "    <tr>\n",
       "      <th>4</th>\n",
       "      <td>234.55</td>\n",
       "      <td>234.60</td>\n",
       "      <td>221.05</td>\n",
       "      <td>230.30</td>\n",
       "      <td>230.90</td>\n",
       "    </tr>\n",
       "  </tbody>\n",
       "</table>\n",
       "</div>"
      ],
      "text/plain": [
       "   Add1(in Thousands)  Add2(in Thousands)  Add3(in Thousands)  \\\n",
       "0              208.00              222.25              206.85   \n",
       "1              217.00              218.60              205.90   \n",
       "2              223.50              227.80              216.15   \n",
       "3              230.00              237.50              225.75   \n",
       "4              234.55              234.60              221.05   \n",
       "\n",
       "   Add4(in Thousands)  Add5(in Thousands)  \n",
       "0              216.00              215.15  \n",
       "1              210.25              209.20  \n",
       "2              217.25              218.20  \n",
       "3              226.45              227.60  \n",
       "4              230.30              230.90  "
      ]
     },
     "execution_count": 29,
     "metadata": {},
     "output_type": "execute_result"
    }
   ],
   "source": [
    "x.head()"
   ]
  },
  {
   "cell_type": "markdown",
   "id": "d3323af2",
   "metadata": {},
   "source": [
    "# 3. Predict the profit generated by the company, if they wish to spend the following amount for advertisement.\n",
    "Add1(in Thousands) 290\n",
    "Add2(in Thousands) 312\n",
    "Add3(in Thousands) 309\n",
    "Add4(in Thousands) 298\n",
    "Add5(in Thousands) 320\n"
   ]
  },
  {
   "cell_type": "code",
   "execution_count": 30,
   "id": "dceed8a4",
   "metadata": {},
   "outputs": [
    {
     "data": {
      "text/plain": [
       "5820.0599999999995"
      ]
     },
     "execution_count": 30,
     "metadata": {},
     "output_type": "execute_result"
    }
   ],
   "source": [
    "make_pred =[[290,312,309,298,320]]\n",
    "model.predict(make_pred).item()"
   ]
  },
  {
   "cell_type": "markdown",
   "id": "2e292a9a",
   "metadata": {},
   "source": [
    "if the amount spend on five advertising companies for their ads are 290,312,309,298,320 then profit generated by the company is 5820.05"
   ]
  }
 ],
 "metadata": {
  "kernelspec": {
   "display_name": "Python 3 (ipykernel)",
   "language": "python",
   "name": "python3"
  },
  "language_info": {
   "codemirror_mode": {
    "name": "ipython",
    "version": 3
   },
   "file_extension": ".py",
   "mimetype": "text/x-python",
   "name": "python",
   "nbconvert_exporter": "python",
   "pygments_lexer": "ipython3",
   "version": "3.9.7"
  }
 },
 "nbformat": 4,
 "nbformat_minor": 5
}
